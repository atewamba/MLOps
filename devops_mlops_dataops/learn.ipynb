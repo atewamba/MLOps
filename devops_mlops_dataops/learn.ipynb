{
 "cells": [
  {
   "cell_type": "markdown",
   "metadata": {},
   "source": [
    "### MLOps Background\n",
    "### MLOps Trends and Techniques\n",
    "MLOps, the rule of 25%: 25% DevOps, 25% Data, 25% models, 25%Business\n",
    "\n",
    "What is DevOps?: Software Engineering best practices + company culture + authomation\n",
    "What is DataOps?: Continue improvement to make data ready for use\n",
    "What is MLOps?: \n",
    "(1) MLOps \"Light\":  workflow- Github - Google Cloud Build - Google App Engine - Prediction service and AI API\n",
    "\n",
    "(2) MLOps Vertex AI \"Heavy\" Workflow: data labeling - data drift- feture stores - model registry - explainability - model monitoring - prediction - experiment tracking\n",
    "\n",
    "\n",
    "MLOps: Hierarchy of Needs- \n",
    "\n",
    "(1) DevOps: IaC infrastructure as a code; Continous Delivery, Build Systems\n",
    "(2) DataOps: Data Management flatforms, Data Jobs and Tasks, Severless Query and Visualisation\n",
    "(3) Platform Automation: Feature Stores; Model serving, Experiment Tracking, Data Drift Detection\n",
    "(4) MLOps: Business ROI, Problem Framing, Forecasting, Predictions, Pattern Discovery\n",
    "\n",
    "Data Poisoning Machine Learning Systems:\n",
    "\n",
    "What are the key Components in MLOps?: Cloud MlOps Landscape:\n",
    "\n",
    "elastic storage systems, elastic compute system, serveless and containerized managed service, cloudshell, cloud ide,  storage query tools and dashboards, free jupyter notebook platform; MLOps platform: experiment tracking, model registry, feature store, inference; specialized solutions : 3rd party vendor integrations such as Monitoring & observability, specialized databases, mlops, dataops.\n",
    "\n"
   ]
  }
 ],
 "metadata": {
  "language_info": {
   "name": "python"
  }
 },
 "nbformat": 4,
 "nbformat_minor": 2
}
